{
 "cells": [
  {
   "cell_type": "code",
   "execution_count": 1,
   "metadata": {},
   "outputs": [
    {
     "name": "stdout",
     "output_type": "stream",
     "text": [
      "This has been written to a file\n"
     ]
    }
   ],
   "source": [
    "file = open(\"newfile.txt\", \"w\")\n",
    "file.write(\"This has been written to a file\")\n",
    "file.close()\n",
    "\n",
    "file = open(\"newfile.txt\", \"r\")\n",
    "print(file.read())\n",
    "file.close()"
   ]
  },
  {
   "cell_type": "code",
   "execution_count": 2,
   "metadata": {},
   "outputs": [
    {
     "name": "stdout",
     "output_type": "stream",
     "text": [
      "Reading initial contents\n",
      "This has been written to a file\n",
      "Finished\n",
      "Reading new contents\n",
      "Some new text\n",
      "Finished\n"
     ]
    }
   ],
   "source": [
    "file = open(\"newfile.txt\", \"r\")\n",
    "print(\"Reading initial contents\")\n",
    "print(file.read())\n",
    "print(\"Finished\")\n",
    "file.close()\n",
    "\n",
    "file = open(\"newfile.txt\", \"w\")\n",
    "file.write(\"Some new text\")\n",
    "file.close()\n",
    "\n",
    "file = open(\"newfile.txt\", \"r\")\n",
    "print(\"Reading new contents\")\n",
    "print(file.read())\n",
    "print(\"Finished\")\n",
    "file.close()"
   ]
  },
  {
   "cell_type": "code",
   "execution_count": 16,
   "metadata": {},
   "outputs": [
    {
     "name": "stdout",
     "output_type": "stream",
     "text": [
      "Initial value for 'amount_written' is 0\n",
      "None\n",
      "Hello world!\n"
     ]
    }
   ],
   "source": [
    "msg = \"Hello world!\"\n",
    "file = open(\"newfile.txt\", \"w\")\n",
    "amount_written = 0\n",
    "print(\"Initial value for 'amount_written' is \" + str(amount_written))\n",
    "amount_written = file.write(msg)\n",
    "print(amount_written)\n",
    "file.close()\n",
    "file = open(\"newfile.txt\", \"r\")\n",
    "print(file.read())\n",
    "file.close()"
   ]
  },
  {
   "cell_type": "code",
   "execution_count": 11,
   "metadata": {},
   "outputs": [
    {
     "name": "stdout",
     "output_type": "stream",
     "text": [
      "Hello, world!\n",
      "My name is Homer.\n",
      "What a beautiful day we're having.\n",
      "\n"
     ]
    }
   ],
   "source": [
    "fout = open('hello.txt', 'w')\n",
    "fout.write('Hello, world!\\n')                # .write(str)\n",
    "fout.write('My name is Homer.\\n')\n",
    "fout.write(\"What a beautiful day we're having.\\n\")\n",
    "fout.close()\n",
    "fout = open('hello.txt', 'r')\n",
    "cont=fout.read()\n",
    "print(cont)"
   ]
  },
  {
   "cell_type": "code",
   "execution_count": null,
   "metadata": {
    "collapsed": true
   },
   "outputs": [],
   "source": []
  }
 ],
 "metadata": {
  "kernelspec": {
   "display_name": "Python 2",
   "language": "python",
   "name": "python2"
  },
  "language_info": {
   "codemirror_mode": {
    "name": "ipython",
    "version": 2
   },
   "file_extension": ".py",
   "mimetype": "text/x-python",
   "name": "python",
   "nbconvert_exporter": "python",
   "pygments_lexer": "ipython2",
   "version": "2.7.13"
  }
 },
 "nbformat": 4,
 "nbformat_minor": 2
}
