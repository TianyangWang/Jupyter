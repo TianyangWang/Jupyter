{
 "cells": [
  {
   "cell_type": "code",
   "execution_count": 4,
   "metadata": {},
   "outputs": [
    {
     "name": "stdout",
     "output_type": "stream",
     "text": [
      "Enter a filename: \"TextFile.txt\"\n",
      "Line 1\n",
      "Line 2\n",
      "Line 3\n",
      "Line 4\n",
      "Line 5\n",
      "\n",
      "5\n"
     ]
    }
   ],
   "source": [
    "filename = input(\"Enter a filename: \") # Enter  \"TextFile.txt\"\n",
    "\n",
    "with open(filename) as f:\n",
    "    text = f.read()\n",
    "\n",
    "print(text)\n",
    "def count_char(text, char):\n",
    "    count = 0\n",
    "    for c in text:\n",
    "        if c == char:\n",
    "            count += 1\n",
    "    return count\n",
    "print(count_char(text, \"i\"))"
   ]
  },
  {
   "cell_type": "code",
   "execution_count": 5,
   "metadata": {},
   "outputs": [
    {
     "name": "stdout",
     "output_type": "stream",
     "text": [
      "a - 0.0%\n",
      "b - 0.0%\n",
      "c - 0.0%\n",
      "d - 0.0%\n",
      "e - 14.0%\n",
      "f - 0.0%\n",
      "g - 0.0%\n",
      "h - 0.0%\n",
      "i - 14.0%\n",
      "j - 0.0%\n",
      "k - 0.0%\n",
      "l - 0.0%\n",
      "m - 0.0%\n",
      "n - 14.0%\n",
      "o - 0.0%\n",
      "p - 0.0%\n",
      "q - 0.0%\n",
      "r - 0.0%\n",
      "s - 0.0%\n",
      "t - 0.0%\n",
      "u - 0.0%\n",
      "v - 0.0%\n",
      "w - 0.0%\n",
      "x - 0.0%\n",
      "y - 0.0%\n",
      "z - 0.0%\n"
     ]
    }
   ],
   "source": [
    " for char in \"abcdefghijklmnopqrstuvwxyz\":\n",
    "    perc = 100 * count_char(text, char) / len(text)\n",
    "    print(\"{0} - {1}%\".format(char, round(perc, 2)))"
   ]
  },
  {
   "cell_type": "code",
   "execution_count": null,
   "metadata": {
    "collapsed": true
   },
   "outputs": [],
   "source": []
  }
 ],
 "metadata": {
  "kernelspec": {
   "display_name": "Python 2",
   "language": "python",
   "name": "python2"
  },
  "language_info": {
   "codemirror_mode": {
    "name": "ipython",
    "version": 2
   },
   "file_extension": ".py",
   "mimetype": "text/x-python",
   "name": "python",
   "nbconvert_exporter": "python",
   "pygments_lexer": "ipython2",
   "version": "2.7.13"
  }
 },
 "nbformat": 4,
 "nbformat_minor": 2
}
